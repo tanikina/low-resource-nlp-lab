{
 "cells": [
  {
   "cell_type": "markdown",
   "id": "09ab3073-76b5-46d0-9a59-f3f2a7b70742",
   "metadata": {},
   "source": [
    "[![Open in Colab](https://colab.research.google.com/assets/colab-badge.svg)](https://colab.research.google.com/github/tanikina/low-resource-nlp-lab/blob/main/notebooks/Active_Learning_Tutorial.ipynb)\n",
    "\n",
    "You can find more tutorials on how to use `small-text` for Active Learning here: [https://github.com/webis-de/small-text/tree/v1.3.2/examples/notebooks](https://github.com/webis-de/small-text/tree/v1.3.2/examples/notebooks)"
   ]
  },
  {
   "cell_type": "markdown",
   "id": "59ef725b-27f5-4e50-bb52-96a860affb6c",
   "metadata": {},
   "source": [
    "<b>What is active learning?</b>\n",
    "\n",
    "Active learning (AL) aims to achieve higher accuracy with fewer training samples by allowing a model to choose the data to be annotated and used for learning.\n",
    "\n",
    "<img src=\"images/active-learning-workflow.png\" alt=\"Active Learning Workflow\" width=\"450\"/>\n",
    "\n",
    "Image: [Visually-Enabled Active Deep Learning for (Geo) Text and Image Classification: A Review (Yang et al., 2018)](https://www.mdpi.com/2220-9964/7/2/65)\n",
    "\n",
    "<img src=\"images/active-learning.png\" alt=\"Active Learning\" width=\"400\"/>\n",
    "\n",
    "Algorithm: [A Survey of Active Learning for Natural Language Processing (Zhang et al., 2022)](https://aclanthology.org/2022.emnlp-main.414.pdf)\n",
    "\n",
    "<b>How to choose \"good\" data points?</b>\n",
    "\n",
    "AL uses several query strategies to select the data. The strategies can focus on either selecting the most informative or most representative samples.\n",
    "\n",
    "<b>Informativeness:</b> estimating the output uncertainty, model disagreement, assessing gradients, making performance predictions;\n",
    "\n",
    "Informative Query Strategies: [Least Confidence](https://small-text.readthedocs.io/en/v1.3.2/components/query_strategies.html#small_text.query_strategies.strategies.LeastConfidence), [Prediction Entropy](https://small-text.readthedocs.io/en/v1.3.2/components/query_strategies.html#small_text.query_strategies.strategies.PredictionEntropy), [Bayesian Active Learning by Disagreement](https://small-text.readthedocs.io/en/v1.3.2/components/query_strategies.html#small_text.query_strategies.bayesian.BALD) etc.\n",
    "\n",
    "<b>Representativeness:</b> measuring distribution density, choosing diverse and discriminative samples;\n",
    "\n",
    "Representative Query Strategies: [Discriminative Active Learning](https://small-text.readthedocs.io/en/v1.3.2/components/query_strategies.html#small_text.query_strategies.strategies.DiscriminativeActiveLearning), [Greedy Coreset](https://small-text.readthedocs.io/en/v1.3.2/components/query_strategies.html#small_text.query_strategies.coresets.GreedyCoreset), [Lightweight Coreset](https://small-text.readthedocs.io/en/v1.3.2/components/query_strategies.html#small_text.query_strategies.coresets.LightweightCoreset) etc."
   ]
  },
  {
   "cell_type": "code",
   "execution_count": null,
   "id": "b427b3bc-59be-4bcf-ade7-622557c6e619",
   "metadata": {},
   "outputs": [],
   "source": [
    "!pip install transformers[torch]\n",
    "!pip install small-text\n",
    "!pip install datasets\n",
    "!pip install numpy\n",
    "!pip install sklearn\n",
    "!pip install matplotlib seaborn"
   ]
  },
  {
   "cell_type": "code",
   "execution_count": 1,
   "id": "d6373493-b755-4c39-8f02-1122ec09271c",
   "metadata": {},
   "outputs": [],
   "source": [
    "import datasets\n",
    "import torch\n",
    "import numpy as np\n",
    "\n",
    "seed = 2024\n",
    "torch.manual_seed(seed)\n",
    "np.random.seed(seed)"
   ]
  },
  {
   "cell_type": "markdown",
   "id": "ffad3aa5-5e1d-4df5-8450-6410a27d48e4",
   "metadata": {},
   "source": [
    "### 🗃️ Dataset Preparation\n",
    "**Financial Phrasebank** is a polar sentiment dataset that contains 4840 sentences from financial news in English. Each sentence is categorized as positive, negative or neutral."
   ]
  },
  {
   "cell_type": "code",
   "execution_count": 2,
   "id": "ab022b69-5388-4115-b164-102dcc6e708a",
   "metadata": {},
   "outputs": [
    {
     "name": "stdout",
     "output_type": "stream",
     "text": [
      "{'sentence': 'The 19,200-square metre technology center is located near University of Tampere in central Tampere .', 'label': 1}\n"
     ]
    }
   ],
   "source": [
    "from datasets import load_dataset, DatasetDict\n",
    "# Loading the sentiment dataset of sentences from financial news\n",
    "original_dataset = load_dataset(\"financial_phrasebank\", \"sentences_allagree\")\n",
    "\n",
    "# 80% for training, 10% for test  and 10% for validation\n",
    "train_test_val = original_dataset[\"train\"].train_test_split(test_size=0.2)\n",
    "# Splitting between test and validation\n",
    "test_val = train_test_val[\"test\"].train_test_split(test_size=0.5)\n",
    "\n",
    "# Putting everything together into a single DatasetDict\n",
    "dataset = DatasetDict({\n",
    "    \"train\": train_test_val[\"train\"],\n",
    "    \"test\": test_val[\"test\"],\n",
    "    \"validation\": test_val[\"train\"]})\n",
    "\n",
    "dataset.num_rows\n",
    "print(dataset[\"train\"][0])"
   ]
  },
  {
   "cell_type": "code",
   "execution_count": 3,
   "id": "aa95771f-51e1-4dbd-979e-27689359fd01",
   "metadata": {},
   "outputs": [],
   "source": [
    "model_name = \"bert-base-cased\"\n",
    "\n",
    "from transformers import AutoTokenizer\n",
    "tokenizer = AutoTokenizer.from_pretrained(model_name)"
   ]
  },
  {
   "cell_type": "code",
   "execution_count": 4,
   "id": "17ff6709-a62a-46a7-b1df-3e32b9a42cc6",
   "metadata": {},
   "outputs": [
    {
     "data": {
      "text/plain": [
       "3"
      ]
     },
     "execution_count": 4,
     "metadata": {},
     "output_type": "execute_result"
    }
   ],
   "source": [
    "num_classes = dataset[\"train\"].features[\"label\"].num_classes\n",
    "num_classes"
   ]
  },
  {
   "cell_type": "code",
   "execution_count": 5,
   "id": "bfb77a3f-358d-4e6a-b609-ce42f5535fb0",
   "metadata": {},
   "outputs": [
    {
     "name": "stderr",
     "output_type": "stream",
     "text": [
      "/usr/local/lib/python3.10/dist-packages/small_text/utils/annotations.py:67: ExperimentalWarning: The function from_arrays is experimental and maybe subject to change soon.\n",
      "  warnings.warn(f'The {subject} {func_or_class.__name__} is experimental '\n"
     ]
    }
   ],
   "source": [
    "from small_text import TransformersDataset\n",
    "\n",
    "target_labels = np.arange(num_classes)\n",
    "train = TransformersDataset.from_arrays(dataset[\"train\"][\"sentence\"], dataset[\"train\"][\"label\"], \\\n",
    "                                        tokenizer, max_length=64, target_labels=target_labels)\n",
    "test = TransformersDataset.from_arrays(dataset[\"test\"][\"sentence\"], dataset[\"test\"][\"label\"], \\\n",
    "                                       tokenizer, max_length=64, target_labels=target_labels)"
   ]
  },
  {
   "cell_type": "markdown",
   "id": "4ce498db-a3a2-445f-b67c-c2d0d1346ead",
   "metadata": {},
   "source": [
    "### ⚙️ Model Preparation"
   ]
  },
  {
   "cell_type": "code",
   "execution_count": 6,
   "id": "7ba8d869-68cd-45c7-b42d-5e390b27f34b",
   "metadata": {},
   "outputs": [],
   "source": [
    "from small_text import (\n",
    "    PoolBasedActiveLearner,\n",
    "    LightweightCoreset,\n",
    "    TransformerBasedClassificationFactory,\n",
    "    TransformerModelArguments,\n",
    "    random_initialization_balanced\n",
    ")\n",
    "\n",
    "# Simulating initial labeling to warm-start the active learning\n",
    "def initialize_active_learner(active_learner, y_train):\n",
    "    indices_initial = random_initialization_balanced(y_train, n_samples=30)\n",
    "    active_learner.initialize_data(indices_initial, y_train[indices_initial])\n",
    "    return indices_initial\n",
    "\n",
    "# Setting up the model and the query strategy\n",
    "transformer_model = TransformerModelArguments(model_name)\n",
    "clf_factory = TransformerBasedClassificationFactory(transformer_model, num_classes, \\\n",
    "                                                    kwargs=dict({\"device\": \"cuda\", \"mini_batch_size\": 32, \\\n",
    "                                                                 \"class_weight\": \"balanced\"}))\n",
    "# Other implemented strategies: https://small-text.readthedocs.io/en/v1.3.2/components/query_strategies.html\n",
    "query_strategy = LightweightCoreset()\n",
    "\n",
    "# Setting up the active learner\n",
    "active_learner = PoolBasedActiveLearner(clf_factory, query_strategy, train, reuse_model=True)\n",
    "indices_labeled = initialize_active_learner(active_learner, train.y)"
   ]
  },
  {
   "cell_type": "markdown",
   "id": "2cd72111-4db7-4440-8803-d8102d66b806",
   "metadata": {},
   "source": [
    "### ✅ Evaluation"
   ]
  },
  {
   "cell_type": "code",
   "execution_count": 7,
   "id": "1ad30d44-0df2-4266-ac63-f979bced94eb",
   "metadata": {},
   "outputs": [
    {
     "name": "stdout",
     "output_type": "stream",
     "text": [
      "Train accuracy: 0.67\n",
      "Test accuracy: 0.22\n"
     ]
    },
    {
     "name": "stderr",
     "output_type": "stream",
     "text": [
      "100%|██████████████████████████████████████| 1811/1811 [00:02<00:00, 659.13it/s]\n"
     ]
    },
    {
     "name": "stdout",
     "output_type": "stream",
     "text": [
      "---------------\n",
      "Iteration #0 (60 samples)\n",
      "Train accuracy: 0.43\n",
      "Test accuracy: 0.25\n"
     ]
    },
    {
     "name": "stderr",
     "output_type": "stream",
     "text": [
      "100%|██████████████████████████████████████| 1811/1811 [00:02<00:00, 663.00it/s]\n"
     ]
    },
    {
     "name": "stdout",
     "output_type": "stream",
     "text": [
      "---------------\n",
      "Iteration #1 (90 samples)\n",
      "Train accuracy: 0.92\n",
      "Test accuracy: 0.70\n"
     ]
    },
    {
     "name": "stderr",
     "output_type": "stream",
     "text": [
      "100%|██████████████████████████████████████| 1811/1811 [00:02<00:00, 662.97it/s]\n"
     ]
    },
    {
     "name": "stdout",
     "output_type": "stream",
     "text": [
      "---------------\n",
      "Iteration #2 (120 samples)\n",
      "Train accuracy: 1.00\n",
      "Test accuracy: 0.83\n"
     ]
    },
    {
     "name": "stderr",
     "output_type": "stream",
     "text": [
      "100%|██████████████████████████████████████| 1811/1811 [00:02<00:00, 659.16it/s]\n"
     ]
    },
    {
     "name": "stdout",
     "output_type": "stream",
     "text": [
      "---------------\n",
      "Iteration #3 (150 samples)\n",
      "Train accuracy: 0.98\n",
      "Test accuracy: 0.85\n"
     ]
    },
    {
     "name": "stderr",
     "output_type": "stream",
     "text": [
      "100%|██████████████████████████████████████| 1811/1811 [00:02<00:00, 659.65it/s]\n"
     ]
    },
    {
     "name": "stdout",
     "output_type": "stream",
     "text": [
      "---------------\n",
      "Iteration #4 (180 samples)\n",
      "Train accuracy: 1.00\n",
      "Test accuracy: 0.90\n"
     ]
    }
   ],
   "source": [
    "from sklearn.metrics import accuracy_score\n",
    "\n",
    "num_queries = 5\n",
    "\n",
    "def evaluate(active_learner, train, test):\n",
    "    y_pred = active_learner.classifier.predict(train)\n",
    "    y_pred_test = active_learner.classifier.predict(test)\n",
    "    \n",
    "    test_acc = accuracy_score(y_pred_test, test.y)\n",
    "\n",
    "    print(\"Train accuracy: {:.2f}\".format(accuracy_score(y_pred, train.y)))\n",
    "    print(\"Test accuracy: {:.2f}\".format(test_acc))\n",
    "    \n",
    "    return test_acc\n",
    "\n",
    "\n",
    "results = []\n",
    "results.append(evaluate(active_learner, train[indices_labeled], test))\n",
    "\n",
    "for i in range(num_queries):\n",
    "    # Adding labeled 50 samples in each iteration\n",
    "    indices_queried = active_learner.query(num_samples=30)\n",
    "\n",
    "    # Using gold labels for illustration purposes,\n",
    "    # in reality these should represent new annotations\n",
    "    y = train.y[indices_queried]\n",
    "\n",
    "    # Updating the query labels and colecting all indices for evaluation\n",
    "    active_learner.update(y)\n",
    "    indices_labeled = np.concatenate([indices_queried, indices_labeled])\n",
    "    \n",
    "    print(\"---------------\")\n",
    "    print(f\"Iteration #{i} ({len(indices_labeled)} samples)\")\n",
    "    results.append(evaluate(active_learner, train[indices_labeled], test))"
   ]
  },
  {
   "cell_type": "code",
   "execution_count": 9,
   "id": "fd54f957-b010-4eaf-8c3c-ae2b1c175c4f",
   "metadata": {},
   "outputs": [
    {
     "data": {
      "image/png": "[encoded data removed]",
      "text/plain": [
       "<Figure size 600x400 with 1 Axes>"
      ]
     },
     "metadata": {},
     "output_type": "display_data"
    }
   ],
   "source": [
    "# Visualizing the results\n",
    "import seaborn as sns\n",
    "import matplotlib.pyplot as plt\n",
    "\n",
    "fig = plt.figure(figsize=(6, 4))\n",
    "ax = plt.axes()\n",
    "\n",
    "sns.lineplot(x=np.arange(num_queries+1), y=np.array(results))\n",
    "\n",
    "plt.xlabel(\"number of queries\", labelpad=15)\n",
    "plt.ylabel(\"test accuracy\", labelpad=25)\n",
    "\n",
    "sns.despine()"
   ]
  }
 ],
 "metadata": {
  "kernelspec": {
   "display_name": "Python 3 (ipykernel)",
   "language": "python",
   "name": "python3"
  },
  "language_info": {
   "codemirror_mode": {
    "name": "ipython",
    "version": 3
   },
   "file_extension": ".py",
   "mimetype": "text/x-python",
   "name": "python",
   "nbconvert_exporter": "python",
   "pygments_lexer": "ipython3",
   "version": "3.10.12"
  }
 },
 "nbformat": 4,
 "nbformat_minor": 5
}
